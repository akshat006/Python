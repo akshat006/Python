{
 "cells": [
  {
   "cell_type": "code",
   "execution_count": 5,
   "metadata": {},
   "outputs": [],
   "source": [
    "def getMaxValue():\n",
    "    \n",
    "    flag = True\n",
    "    mylist = []\n",
    "    while flag:\n",
    "        try:\n",
    "            value = int(input(\"Press \\n 1 to enter the number \\n 2 to get the highest number from the list \\n\"))\n",
    "            if value == 1:\n",
    "                number = int(input(\"Enter the number: \"))\n",
    "                \n",
    "                mylist.append(number)\n",
    "            elif value == 2:\n",
    "                flag = False\n",
    "        except:\n",
    "            \n",
    "            print(\"Please enter the valid number\")\n",
    "            continue\n",
    "    \n",
    "    if len(mylist) > 0:\n",
    "        \n",
    "        print(\"The highest number is: \", max(mylist))\n",
    "    else:\n",
    "        print(\"The list is empty\")\n",
    "                "
   ]
  },
  {
   "cell_type": "code",
   "execution_count": 6,
   "metadata": {},
   "outputs": [
    {
     "name": "stdout",
     "output_type": "stream",
     "text": [
      "Press \n",
      " 1 to enter the number \n",
      " 2 to get the highest number from the list \n",
      "1\n",
      "Enter the number: 12\n",
      "Press \n",
      " 1 to enter the number \n",
      " 2 to get the highest number from the list \n",
      "2\n",
      "The highest number is:  12\n"
     ]
    }
   ],
   "source": [
    "getMaxValue()"
   ]
  },
  {
   "cell_type": "code",
   "execution_count": null,
   "metadata": {},
   "outputs": [],
   "source": []
  },
  {
   "cell_type": "code",
   "execution_count": null,
   "metadata": {},
   "outputs": [],
   "source": []
  }
 ],
 "metadata": {
  "kernelspec": {
   "display_name": "Python 3",
   "language": "python",
   "name": "python3"
  },
  "language_info": {
   "codemirror_mode": {
    "name": "ipython",
    "version": 3
   },
   "file_extension": ".py",
   "mimetype": "text/x-python",
   "name": "python",
   "nbconvert_exporter": "python",
   "pygments_lexer": "ipython3",
   "version": "3.7.4"
  }
 },
 "nbformat": 4,
 "nbformat_minor": 2
}
